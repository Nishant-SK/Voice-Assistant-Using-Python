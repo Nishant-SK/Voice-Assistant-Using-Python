{
 "cells": [
  {
   "cell_type": "markdown",
   "id": "31e6cc83",
   "metadata": {},
   "source": [
    "QUESTION 1,2,3"
   ]
  },
  {
   "cell_type": "code",
   "execution_count": 1,
   "id": "ae3077af",
   "metadata": {},
   "outputs": [
    {
     "name": "stdout",
     "output_type": "stream",
     "text": [
      "social dilemma\n",
      "lucy\n",
      "inception\n",
      "social network\n",
      "type your favorite movies=\n",
      "f\n",
      "h\n",
      "['lucy', 'social network', 'h']\n"
     ]
    }
   ],
   "source": [
    "list1 = [\"social dilemma\",\"lucy\",\"inception\",\"social network\"]\n",
    "\n",
    "for x in list1:\n",
    "    print(x)\n",
    "\n",
    "print(\"type your favorite movies=\")\n",
    "def func1(a,b):\n",
    "    list1.append(a)\n",
    "    list1.append(b)\n",
    "\n",
    "func1(input(),input())\n",
    "\n",
    "print(list1[1::2])"
   ]
  },
  {
   "cell_type": "markdown",
   "id": "5673a644",
   "metadata": {},
   "source": [
    "QUESTION 5"
   ]
  },
  {
   "cell_type": "code",
   "execution_count": 50,
   "id": "c8ef05e9",
   "metadata": {},
   "outputs": [
    {
     "name": "stdout",
     "output_type": "stream",
     "text": [
      "1\n",
      "12\n",
      "123\n",
      "1234\n",
      "12345\n"
     ]
    }
   ],
   "source": [
    "for i in range(1,2):\n",
    "    print(i)\n",
    "for x in range(3,7):\n",
    "    for i in range(1,x):\n",
    "        print(i,end=\"\")\n",
    "    print()\n",
    "    \n",
    "\n"
   ]
  },
  {
   "cell_type": "markdown",
   "id": "3ea2c75a",
   "metadata": {},
   "source": [
    "QUESTION 4"
   ]
  },
  {
   "cell_type": "code",
   "execution_count": 3,
   "id": "f23d2f45",
   "metadata": {},
   "outputs": [
    {
     "name": "stdout",
     "output_type": "stream",
     "text": [
      "804\n"
     ]
    }
   ],
   "source": [
    "list3=[33,4,23,431,313]\n",
    "\n",
    "total=0\n",
    "x=0\n",
    "while (x<len(list3)):\n",
    "    total=total+list3[x]\n",
    "    x+=1\n",
    "print(total)"
   ]
  },
  {
   "cell_type": "markdown",
   "id": "97ceddfc",
   "metadata": {},
   "source": []
  }
 ],
 "metadata": {
  "kernelspec": {
   "display_name": "Python 3",
   "language": "python",
   "name": "python3"
  },
  "language_info": {
   "codemirror_mode": {
    "name": "ipython",
    "version": 3
   },
   "file_extension": ".py",
   "mimetype": "text/x-python",
   "name": "python",
   "nbconvert_exporter": "python",
   "pygments_lexer": "ipython3",
   "version": "3.8.8"
  }
 },
 "nbformat": 4,
 "nbformat_minor": 5
}
